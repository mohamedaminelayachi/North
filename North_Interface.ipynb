{
  "nbformat": 4,
  "nbformat_minor": 0,
  "metadata": {
    "colab": {
      "provenance": []
    },
    "kernelspec": {
      "name": "python3",
      "display_name": "Python 3"
    },
    "language_info": {
      "name": "python"
    }
  },
  "cells": [
    {
      "cell_type": "code",
      "execution_count": 42,
      "metadata": {
        "id": "0fF52rP74Z2X"
      },
      "outputs": [],
      "source": [
        "from transformers import pipeline, AutoTokenizer, AutoModelForSequenceClassification\n",
        "from huggingface_hub import hf_hub_download\n",
        "import joblib"
      ]
    },
    {
      "cell_type": "code",
      "source": [
        "def LoadLatinDependencies(vectorizer_id: str, model_id: str):\n",
        "  \"\"\"\n",
        "    This function loads the serialized latin detection vectorizer and model.\n",
        "  \"\"\"\n",
        "  vect = joblib.load(\n",
        "    hf_hub_download(repo_id=\"MohamedAmineLayachi/North_Latin_Version\", filename=vectorizer_id)\n",
        "  )\n",
        "  model = joblib.load(\n",
        "    hf_hub_download(repo_id=\"MohamedAmineLayachi/North_Latin_Version\", filename=model_id)\n",
        "  )\n",
        "  return vect, model"
      ],
      "metadata": {
        "id": "EMfot9IcAUt2"
      },
      "execution_count": 52,
      "outputs": []
    },
    {
      "cell_type": "code",
      "source": [
        "def LoadArabicDependencies(model_id: str, r_labels=False, only_pipeline=False):\n",
        "  \"\"\"\n",
        "    This function loads the arabic detection model from the huggingface hub.\n",
        "  \"\"\"\n",
        "  labels = ['algeria','tunisia','morocco','egypt']\n",
        "  label2id = {label: idx for idx, label in enumerate(labels)}\n",
        "  id2label = {idx: label for idx, label in enumerate(labels)}\n",
        "  tokenizer = AutoTokenizer.from_pretrained(model_id)\n",
        "  model = AutoModelForSequenceClassification.from_pretrained(model_id, num_labels=len(labels), id2label=id2label, label2id=label2id)\n",
        "  pipe = pipeline('text-classification', model=model, tokenizer=tokenizer)\n",
        "\n",
        "  if r_labels is True and only_pipeline is False:\n",
        "    return pipe, tokenizer, model, {'labels': labels, 'label_id': label2id, 'id_label': id2label}\n",
        "  elif r_labels is False and only_pipeline is False:\n",
        "    return pipe, tokenizer, model\n",
        "  elif only_pipeline is True:\n",
        "    return pipe"
      ],
      "metadata": {
        "id": "etCPGAwvBv5w"
      },
      "execution_count": 14,
      "outputs": []
    },
    {
      "cell_type": "code",
      "source": [
        "def LatinPrediction(text: str, vectorizer, model):\n",
        "  \"\"\"\n",
        "   This function takes text in latin characters as input and classify it in the appropriate class.\n",
        "  \"\"\"\n",
        "  feature_vector = vectorizer.transform([text])\n",
        "  return model.predict(feature_vector)"
      ],
      "metadata": {
        "id": "CHM_UO_q6Ho3"
      },
      "execution_count": 12,
      "outputs": []
    },
    {
      "cell_type": "code",
      "source": [
        "def ArabicPrediction(text: str, pipeline, show_score=False):\n",
        "  \"\"\"\n",
        "   This function takes text in Arabic characters as input and classify it in the appropriate class.\n",
        "  \"\"\"\n",
        "  if show_score:\n",
        "    return pipeline(text)\n",
        "  else:\n",
        "    return pipeline(text)[0]['label']"
      ],
      "metadata": {
        "id": "tlvfW9UHBqGb"
      },
      "execution_count": 13,
      "outputs": []
    },
    {
      "cell_type": "code",
      "source": [
        "class DialectClassifier:\n",
        "  \"\"\"\n",
        "    This is the DialectClassfier, a wrapper object for all the models used in this project.\n",
        "  \"\"\"\n",
        "  def __init__(self):\n",
        "    self.LatinVect, self.LatinModel = LoadLatinDependencies(\"North_Latin_CountVectorizer.joblib\", \"North_Latin_MNB_Classifier.joblib\")\n",
        "    self.ArabicPipe = LoadArabicDependencies(\"Oelbourki/northafrica-arabizi-dialect-classifier\", only_pipeline=True)\n",
        "\n",
        "  def predictArabic(self, text):\n",
        "    \"\"\"\n",
        "     This function takes text in Arabic characters as input and classify it in the appropriate class.\n",
        "    \"\"\"\n",
        "    prediction = ArabicPrediction(text, self.ArabicPipe)\n",
        "    print(prediction)\n",
        "\n",
        "  def predictLatin(self, text):\n",
        "    \"\"\"\n",
        "      This function takes text in latin characters as input and classify it in the appropriate class.\n",
        "    \"\"\"\n",
        "    prediction = LatinPrediction(text, self.LatinVect, self.LatinModel)\n",
        "    print(prediction[0])"
      ],
      "metadata": {
        "id": "1ma6BLU0F4rQ"
      },
      "execution_count": 44,
      "outputs": []
    },
    {
      "cell_type": "code",
      "source": [
        "DC = DialectClassifier()"
      ],
      "metadata": {
        "id": "bWiiPZBgFdJc"
      },
      "execution_count": 49,
      "outputs": []
    },
    {
      "cell_type": "code",
      "source": [
        "DC.predictArabic('لباس')"
      ],
      "metadata": {
        "colab": {
          "base_uri": "https://localhost:8080/"
        },
        "id": "7mh5q1npKcQ6",
        "outputId": "c881ca0b-5cff-425f-d8d0-a93bbe511157"
      },
      "execution_count": 50,
      "outputs": [
        {
          "output_type": "stream",
          "name": "stdout",
          "text": [
            "morocco\n"
          ]
        }
      ]
    },
    {
      "cell_type": "code",
      "source": [
        "DC.predictLatin('labass')"
      ],
      "metadata": {
        "colab": {
          "base_uri": "https://localhost:8080/"
        },
        "id": "VJpqgjpcKqif",
        "outputId": "c3167c65-6375-403d-ff35-86e974ef15db"
      },
      "execution_count": 51,
      "outputs": [
        {
          "output_type": "stream",
          "name": "stdout",
          "text": [
            "morocco\n"
          ]
        }
      ]
    },
    {
      "cell_type": "code",
      "source": [],
      "metadata": {
        "id": "XV27aLYILinA"
      },
      "execution_count": 52,
      "outputs": []
    }
  ]
}