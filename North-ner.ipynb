{
 "cells": [
  {
   "cell_type": "code",
   "execution_count": 123,
   "metadata": {
    "id": "5Lw-_e0IT_A9"
   },
   "outputs": [],
   "source": [
    "# ! pip install transformers[torch] datasets evaluate seqeval -q"
   ]
  },
  {
   "cell_type": "code",
   "execution_count": 3,
   "metadata": {},
   "outputs": [],
   "source": [
    "# !pip install ipywidgets"
   ]
  },
  {
   "cell_type": "code",
   "execution_count": 22,
   "metadata": {},
   "outputs": [
    {
     "name": "stderr",
     "output_type": "stream",
     "text": [
      "huggingface/tokenizers: The current process just got forked, after parallelism has already been used. Disabling parallelism to avoid deadlocks...\n",
      "To disable this warning, you can either:\n",
      "\t- Avoid using `tokenizers` before the fork if possible\n",
      "\t- Explicitly set the environment variable TOKENIZERS_PARALLELISM=(true | false)\n"
     ]
    },
    {
     "name": "stdout",
     "output_type": "stream",
     "text": [
      "\u001b[33mWARNING: Running pip as the 'root' user can result in broken permissions and conflicting behaviour with the system package manager. It is recommended to use a virtual environment instead: https://pip.pypa.io/warnings/venv\u001b[0m\u001b[33m\n",
      "\u001b[0m"
     ]
    }
   ],
   "source": [
    "!pip install evaluate seqeval -q"
   ]
  },
  {
   "cell_type": "code",
   "execution_count": 4,
   "metadata": {
    "id": "naLKHJVOT_BF"
   },
   "outputs": [
    {
     "data": {
      "application/vnd.jupyter.widget-view+json": {
       "model_id": "5eed54898fc44ec0b5f88b29406ec5fc",
       "version_major": 2,
       "version_minor": 0
      },
      "text/plain": [
       "VBox(children=(HTML(value='<center> <img\\nsrc=https://huggingface.co/front/assets/huggingface_logo-noborder.sv…"
      ]
     },
     "metadata": {},
     "output_type": "display_data"
    }
   ],
   "source": [
    "from huggingface_hub import notebook_login\n",
    "\n",
    "notebook_login()"
   ]
  },
  {
   "cell_type": "markdown",
   "metadata": {
    "id": "qX65l14tT_BF"
   },
   "source": [
    "## Load DarNER"
   ]
  },
  {
   "cell_type": "code",
   "execution_count": 5,
   "metadata": {
    "colab": {
     "base_uri": "https://localhost:8080/",
     "height": 423
    },
    "id": "oVP3jdlLWn9y",
    "outputId": "666c81e5-fe9c-44ce-da69-1157a512bd9a"
   },
   "outputs": [
    {
     "data": {
      "text/html": [
       "<div>\n",
       "<style scoped>\n",
       "    .dataframe tbody tr th:only-of-type {\n",
       "        vertical-align: middle;\n",
       "    }\n",
       "\n",
       "    .dataframe tbody tr th {\n",
       "        vertical-align: top;\n",
       "    }\n",
       "\n",
       "    .dataframe thead th {\n",
       "        text-align: right;\n",
       "    }\n",
       "</style>\n",
       "<table border=\"1\" class=\"dataframe\">\n",
       "  <thead>\n",
       "    <tr style=\"text-align: right;\">\n",
       "      <th></th>\n",
       "      <th>Unnamed: 0</th>\n",
       "      <th>Sentence</th>\n",
       "      <th>Token</th>\n",
       "      <th>Tag</th>\n",
       "    </tr>\n",
       "  </thead>\n",
       "  <tbody>\n",
       "    <tr>\n",
       "      <th>0</th>\n",
       "      <td>0</td>\n",
       "      <td>0</td>\n",
       "      <td>Uppsala</td>\n",
       "      <td>B-LOC</td>\n",
       "    </tr>\n",
       "    <tr>\n",
       "      <th>1</th>\n",
       "      <td>1</td>\n",
       "      <td>0</td>\n",
       "      <td>)</td>\n",
       "      <td>O</td>\n",
       "    </tr>\n",
       "    <tr>\n",
       "      <th>2</th>\n",
       "      <td>2</td>\n",
       "      <td>0</td>\n",
       "      <td>هيّا</td>\n",
       "      <td>O</td>\n",
       "    </tr>\n",
       "    <tr>\n",
       "      <th>3</th>\n",
       "      <td>3</td>\n",
       "      <td>0</td>\n",
       "      <td>رابع</td>\n",
       "      <td>O</td>\n",
       "    </tr>\n",
       "    <tr>\n",
       "      <th>4</th>\n",
       "      <td>4</td>\n",
       "      <td>0</td>\n",
       "      <td>أكبر</td>\n",
       "      <td>O</td>\n",
       "    </tr>\n",
       "    <tr>\n",
       "      <th>...</th>\n",
       "      <td>...</td>\n",
       "      <td>...</td>\n",
       "      <td>...</td>\n",
       "      <td>...</td>\n",
       "    </tr>\n",
       "    <tr>\n",
       "      <th>52719</th>\n",
       "      <td>52719</td>\n",
       "      <td>1984</td>\n",
       "      <td>خدّامين</td>\n",
       "      <td>O</td>\n",
       "    </tr>\n",
       "    <tr>\n",
       "      <th>52720</th>\n",
       "      <td>52720</td>\n",
       "      <td>1984</td>\n",
       "      <td>بحال</td>\n",
       "      <td>O</td>\n",
       "    </tr>\n",
       "    <tr>\n",
       "      <th>52721</th>\n",
       "      <td>52721</td>\n",
       "      <td>1984</td>\n",
       "      <td>لعبيد</td>\n",
       "      <td>O</td>\n",
       "    </tr>\n",
       "    <tr>\n",
       "      <th>52722</th>\n",
       "      <td>52722</td>\n",
       "      <td>1984</td>\n",
       "      <td>عند</td>\n",
       "      <td>O</td>\n",
       "    </tr>\n",
       "    <tr>\n",
       "      <th>52723</th>\n",
       "      <td>52723</td>\n",
       "      <td>1984</td>\n",
       "      <td>نّوبالا</td>\n",
       "      <td>O</td>\n",
       "    </tr>\n",
       "  </tbody>\n",
       "</table>\n",
       "<p>52724 rows × 4 columns</p>\n",
       "</div>"
      ],
      "text/plain": [
       "       Unnamed: 0  Sentence    Token    Tag\n",
       "0               0         0  Uppsala  B-LOC\n",
       "1               1         0        )      O\n",
       "2               2         0     هيّا      O\n",
       "3               3         0     رابع      O\n",
       "4               4         0     أكبر      O\n",
       "...           ...       ...      ...    ...\n",
       "52719       52719      1984  خدّامين      O\n",
       "52720       52720      1984     بحال      O\n",
       "52721       52721      1984    لعبيد      O\n",
       "52722       52722      1984      عند      O\n",
       "52723       52723      1984  نّوبالا      O\n",
       "\n",
       "[52724 rows x 4 columns]"
      ]
     },
     "execution_count": 5,
     "metadata": {},
     "output_type": "execute_result"
    }
   ],
   "source": [
    "import pandas as pd\n",
    "df = pd.read_csv('DarNERcorp_train.csv')\n",
    "df"
   ]
  },
  {
   "cell_type": "code",
   "execution_count": 6,
   "metadata": {
    "colab": {
     "base_uri": "https://localhost:8080/"
    },
    "id": "x51BzoCBfhoY",
    "outputId": "999c505a-8fc8-4ba3-9b33-5f4786ece734"
   },
   "outputs": [
    {
     "data": {
      "text/plain": [
       "Unnamed: 0    0\n",
       "Sentence      0\n",
       "Token         0\n",
       "Tag           0\n",
       "dtype: int64"
      ]
     },
     "execution_count": 6,
     "metadata": {},
     "output_type": "execute_result"
    }
   ],
   "source": [
    "df = df.dropna()\n",
    "df.isna().sum()"
   ]
  },
  {
   "cell_type": "code",
   "execution_count": 7,
   "metadata": {
    "id": "K7AMOF-pZHw1"
   },
   "outputs": [],
   "source": [
    "label_list = sorted(list(df['Tag'].unique()), reverse=True)"
   ]
  },
  {
   "cell_type": "code",
   "execution_count": 8,
   "metadata": {
    "colab": {
     "base_uri": "https://localhost:8080/"
    },
    "id": "1XaOEsS5ZbFz",
    "outputId": "8d624afb-a1aa-44c6-e980-04579b439532"
   },
   "outputs": [
    {
     "data": {
      "text/plain": [
       "['O', 'I-PER', 'I-ORG', 'I-MISC', 'I-LOC', 'B-PER', 'B-ORG', 'B-MISC', 'B-LOC']"
      ]
     },
     "execution_count": 8,
     "metadata": {},
     "output_type": "execute_result"
    }
   ],
   "source": [
    "label_list"
   ]
  },
  {
   "cell_type": "code",
   "execution_count": 9,
   "metadata": {
    "colab": {
     "base_uri": "https://localhost:8080/"
    },
    "id": "NoAf3KRPg4Ag",
    "outputId": "5528bd0a-265e-4b1e-c460-fe23536903df"
   },
   "outputs": [
    {
     "data": {
      "text/plain": [
       "{'O': 0,\n",
       " 'I-PER': 1,\n",
       " 'I-ORG': 2,\n",
       " 'I-MISC': 3,\n",
       " 'I-LOC': 4,\n",
       " 'B-PER': 5,\n",
       " 'B-ORG': 6,\n",
       " 'B-MISC': 7,\n",
       " 'B-LOC': 8}"
      ]
     },
     "execution_count": 9,
     "metadata": {},
     "output_type": "execute_result"
    }
   ],
   "source": [
    "id2label = {k:v for k,v in enumerate(label_list)}\n",
    "label2id = {v:k for k,v in enumerate(label_list)}\n",
    "label2id"
   ]
  },
  {
   "cell_type": "code",
   "execution_count": 10,
   "metadata": {
    "id": "nAuEMy3JXkJE"
   },
   "outputs": [],
   "source": [
    "token_lists = df.groupby('Sentence')['Token'].agg(list)\n",
    "tag_lists = df.groupby('Sentence')['Tag'].agg(list)"
   ]
  },
  {
   "cell_type": "code",
   "execution_count": 11,
   "metadata": {
    "id": "DA6cQN5sW8pM"
   },
   "outputs": [],
   "source": [
    "data = []\n",
    "for i,(tokens, tags) in enumerate(zip(token_lists, tag_lists)):\n",
    "  r = {}\n",
    "  r['id'] = i\n",
    "  r['tokens'] = tokens\n",
    "  r['ner_tags'] = [label2id[l] for l in tags]\n",
    "  data.append(r)"
   ]
  },
  {
   "cell_type": "code",
   "execution_count": 12,
   "metadata": {
    "id": "EsE42YJxXkii"
   },
   "outputs": [],
   "source": [
    "dataset = pd.DataFrame(data)"
   ]
  },
  {
   "cell_type": "code",
   "execution_count": 13,
   "metadata": {
    "colab": {
     "base_uri": "https://localhost:8080/",
     "height": 423
    },
    "id": "MLdMP5FpY8x7",
    "outputId": "57daef36-6b72-4998-879f-489d41534ef4"
   },
   "outputs": [
    {
     "data": {
      "text/html": [
       "<div>\n",
       "<style scoped>\n",
       "    .dataframe tbody tr th:only-of-type {\n",
       "        vertical-align: middle;\n",
       "    }\n",
       "\n",
       "    .dataframe tbody tr th {\n",
       "        vertical-align: top;\n",
       "    }\n",
       "\n",
       "    .dataframe thead th {\n",
       "        text-align: right;\n",
       "    }\n",
       "</style>\n",
       "<table border=\"1\" class=\"dataframe\">\n",
       "  <thead>\n",
       "    <tr style=\"text-align: right;\">\n",
       "      <th></th>\n",
       "      <th>id</th>\n",
       "      <th>tokens</th>\n",
       "      <th>ner_tags</th>\n",
       "    </tr>\n",
       "  </thead>\n",
       "  <tbody>\n",
       "    <tr>\n",
       "      <th>0</th>\n",
       "      <td>0</td>\n",
       "      <td>[Uppsala, ), هيّا, رابع, أكبر, مدينة, ف, سّويد...</td>\n",
       "      <td>[8, 0, 0, 0, 0, 0, 0, 8, 0, 0, 8, 0, 8, 0, 8, 0]</td>\n",
       "    </tr>\n",
       "    <tr>\n",
       "      <th>1</th>\n",
       "      <td>1</td>\n",
       "      <td>[ف, 2018, كان, عدد, سّكان, ديالها, 172, ،, 402...</td>\n",
       "      <td>[0, 0, 0, 0, 0, 0, 0, 0, 0, 0]</td>\n",
       "    </tr>\n",
       "    <tr>\n",
       "      <th>2</th>\n",
       "      <td>2</td>\n",
       "      <td>[أوپيك, (, ب, لينݣليزية, :, OPEC, -, تاتعني, ل...</td>\n",
       "      <td>[6, 0, 0, 7, 0, 6, 0, 0, 6, 2, 2, 2, 2, 2, 0, ...</td>\n",
       "    </tr>\n",
       "    <tr>\n",
       "      <th>3</th>\n",
       "      <td>3</td>\n",
       "      <td>[تأسسات, هاد, لمنضمة, نهار, 14, شتنبر, 1960, ف...</td>\n",
       "      <td>[0, 0, 0, 0, 7, 3, 3, 0, 8, 0, 0, 0, 0, 0, 0, ...</td>\n",
       "    </tr>\n",
       "    <tr>\n",
       "      <th>4</th>\n",
       "      <td>4</td>\n",
       "      <td>[ف, 1965, ،, رحلات, لمنضمة, ،, و, ولأّ, لمقر, ...</td>\n",
       "      <td>[0, 0, 0, 0, 0, 0, 0, 0, 0, 0, 0, 8, 0, 0, 8, ...</td>\n",
       "    </tr>\n",
       "    <tr>\n",
       "      <th>...</th>\n",
       "      <td>...</td>\n",
       "      <td>...</td>\n",
       "      <td>...</td>\n",
       "    </tr>\n",
       "    <tr>\n",
       "      <th>1980</th>\n",
       "      <td>1980</td>\n",
       "      <td>[ف, لغرب, شدّات, ؤكرانيا, لي, كانت, محتلاها, پ...</td>\n",
       "      <td>[0, 0, 0, 8, 0, 0, 0, 8, 0, 0, 0, 0, 0, 0, 0, ...</td>\n",
       "    </tr>\n",
       "    <tr>\n",
       "      <th>1981</th>\n",
       "      <td>1981</td>\n",
       "      <td>[دخول, ؤكرانيا, تحت, سّلطة, د, موسكوڤيا, دخّل,...</td>\n",
       "      <td>[0, 8, 0, 0, 0, 8, 0, 0, 0, 0, 0, 0, 0, 0, 0, ...</td>\n",
       "    </tr>\n",
       "    <tr>\n",
       "      <th>1982</th>\n",
       "      <td>1982</td>\n",
       "      <td>[تّسارات, كانو, سيرتو, مهتمين, ب, طّيكنولوجيا,...</td>\n",
       "      <td>[0, 0, 0, 0, 0, 0, 0, 0]</td>\n",
       "    </tr>\n",
       "    <tr>\n",
       "      <th>1983</th>\n",
       "      <td>1983</td>\n",
       "      <td>[ف, 1721, ،, تّسار, پيوطر, لعاضيم, زاد, ل, راس...</td>\n",
       "      <td>[0, 0, 0, 0, 5, 1, 0, 0, 0, 0, 0, 0, 0, 0, 0, ...</td>\n",
       "    </tr>\n",
       "    <tr>\n",
       "      <th>1984</th>\n",
       "      <td>1984</td>\n",
       "      <td>[وخا, لإصلاحات, لي, بداها, پيوطر, لّول, (, لعا...</td>\n",
       "      <td>[0, 0, 0, 0, 5, 1, 0, 0, 0, 0, 8, 0, 0, 0, 0, ...</td>\n",
       "    </tr>\n",
       "  </tbody>\n",
       "</table>\n",
       "<p>1985 rows × 3 columns</p>\n",
       "</div>"
      ],
      "text/plain": [
       "        id                                             tokens  \\\n",
       "0        0  [Uppsala, ), هيّا, رابع, أكبر, مدينة, ف, سّويد...   \n",
       "1        1  [ف, 2018, كان, عدد, سّكان, ديالها, 172, ،, 402...   \n",
       "2        2  [أوپيك, (, ب, لينݣليزية, :, OPEC, -, تاتعني, ل...   \n",
       "3        3  [تأسسات, هاد, لمنضمة, نهار, 14, شتنبر, 1960, ف...   \n",
       "4        4  [ف, 1965, ،, رحلات, لمنضمة, ،, و, ولأّ, لمقر, ...   \n",
       "...    ...                                                ...   \n",
       "1980  1980  [ف, لغرب, شدّات, ؤكرانيا, لي, كانت, محتلاها, پ...   \n",
       "1981  1981  [دخول, ؤكرانيا, تحت, سّلطة, د, موسكوڤيا, دخّل,...   \n",
       "1982  1982  [تّسارات, كانو, سيرتو, مهتمين, ب, طّيكنولوجيا,...   \n",
       "1983  1983  [ف, 1721, ،, تّسار, پيوطر, لعاضيم, زاد, ل, راس...   \n",
       "1984  1984  [وخا, لإصلاحات, لي, بداها, پيوطر, لّول, (, لعا...   \n",
       "\n",
       "                                               ner_tags  \n",
       "0      [8, 0, 0, 0, 0, 0, 0, 8, 0, 0, 8, 0, 8, 0, 8, 0]  \n",
       "1                        [0, 0, 0, 0, 0, 0, 0, 0, 0, 0]  \n",
       "2     [6, 0, 0, 7, 0, 6, 0, 0, 6, 2, 2, 2, 2, 2, 0, ...  \n",
       "3     [0, 0, 0, 0, 7, 3, 3, 0, 8, 0, 0, 0, 0, 0, 0, ...  \n",
       "4     [0, 0, 0, 0, 0, 0, 0, 0, 0, 0, 0, 8, 0, 0, 8, ...  \n",
       "...                                                 ...  \n",
       "1980  [0, 0, 0, 8, 0, 0, 0, 8, 0, 0, 0, 0, 0, 0, 0, ...  \n",
       "1981  [0, 8, 0, 0, 0, 8, 0, 0, 0, 0, 0, 0, 0, 0, 0, ...  \n",
       "1982                           [0, 0, 0, 0, 0, 0, 0, 0]  \n",
       "1983  [0, 0, 0, 0, 5, 1, 0, 0, 0, 0, 0, 0, 0, 0, 0, ...  \n",
       "1984  [0, 0, 0, 0, 5, 1, 0, 0, 0, 0, 8, 0, 0, 0, 0, ...  \n",
       "\n",
       "[1985 rows x 3 columns]"
      ]
     },
     "execution_count": 13,
     "metadata": {},
     "output_type": "execute_result"
    }
   ],
   "source": [
    "dataset"
   ]
  },
  {
   "cell_type": "code",
   "execution_count": 14,
   "metadata": {
    "id": "jrfLPewZaCzj"
   },
   "outputs": [],
   "source": [
    "from datasets import load_dataset, Dataset\n",
    "dataset = Dataset.from_pandas(dataset)"
   ]
  },
  {
   "cell_type": "code",
   "execution_count": 15,
   "metadata": {
    "colab": {
     "base_uri": "https://localhost:8080/"
    },
    "id": "3X4ZHf1ET_BJ",
    "outputId": "eabeeb27-fb78-4065-8708-fd2523fb6e20"
   },
   "outputs": [
    {
     "name": "stderr",
     "output_type": "stream",
     "text": [
      "tokenizer_config.json: 100%|███████████████████████████████████████████████████████████| 347/347 [00:00<00:00, 1.51MB/s]\n",
      "vocab.txt: 100%|█████████████████████████████████████████████████████████████████████| 787k/787k [00:00<00:00, 3.19MB/s]\n",
      "tokenizer.json: 100%|██████████████████████████████████████████████████████████████| 1.67M/1.67M [00:00<00:00, 4.06MB/s]\n",
      "special_tokens_map.json: 100%|██████████████████████████████████████████████████████████| 112/112 [00:00<00:00, 794kB/s]\n"
     ]
    }
   ],
   "source": [
    "from transformers import AutoTokenizer\n",
    "\n",
    "tokenizer = AutoTokenizer.from_pretrained(\"SI2M-Lab/DarijaBERT-arabizi\")"
   ]
  },
  {
   "cell_type": "code",
   "execution_count": 16,
   "metadata": {
    "colab": {
     "base_uri": "https://localhost:8080/"
    },
    "id": "5xT2roeXZ7xQ",
    "outputId": "b7a0c1ff-c349-48f8-f674-8b01e025f7e7"
   },
   "outputs": [
    {
     "data": {
      "text/plain": [
       "Dataset({\n",
       "    features: ['id', 'tokens', 'ner_tags'],\n",
       "    num_rows: 1985\n",
       "})"
      ]
     },
     "execution_count": 16,
     "metadata": {},
     "output_type": "execute_result"
    }
   ],
   "source": [
    "dataset"
   ]
  },
  {
   "cell_type": "code",
   "execution_count": 17,
   "metadata": {
    "colab": {
     "base_uri": "https://localhost:8080/"
    },
    "id": "olThE4pqT_BJ",
    "outputId": "e83cc71c-57b9-47eb-89cd-21299eecdf23"
   },
   "outputs": [
    {
     "data": {
      "text/plain": [
       "['[CLS]',\n",
       " 'up',\n",
       " '##ps',\n",
       " '##ala',\n",
       " ')',\n",
       " 'هيا',\n",
       " 'رابع',\n",
       " 'اكبر',\n",
       " 'مدينة',\n",
       " 'ف',\n",
       " 'سوي',\n",
       " '##د',\n",
       " 'من',\n",
       " 'بعد',\n",
       " 'سط',\n",
       " '##وك',\n",
       " '##هول',\n",
       " '##م',\n",
       " '،',\n",
       " 'ݣ',\n",
       " '##وت',\n",
       " '##نب',\n",
       " '##ور',\n",
       " '##ݣ',\n",
       " 'و',\n",
       " 'مال',\n",
       " '##مو',\n",
       " '.',\n",
       " '[SEP]']"
      ]
     },
     "execution_count": 17,
     "metadata": {},
     "output_type": "execute_result"
    }
   ],
   "source": [
    "example = dataset[0]\n",
    "tokenized_input = tokenizer(example[\"tokens\"], is_split_into_words=True)\n",
    "tokens = tokenizer.convert_ids_to_tokens(tokenized_input[\"input_ids\"])\n",
    "tokens"
   ]
  },
  {
   "cell_type": "code",
   "execution_count": 18,
   "metadata": {
    "id": "couBpr8LT_BK"
   },
   "outputs": [],
   "source": [
    "def tokenize_and_align_labels(examples):\n",
    "    tokenized_inputs = tokenizer(examples[\"tokens\"], truncation=True, is_split_into_words=True)\n",
    "\n",
    "    labels = []\n",
    "    for i, label in enumerate(examples[f\"ner_tags\"]):\n",
    "        word_ids = tokenized_inputs.word_ids(batch_index=i)  # Map tokens to their respective word.\n",
    "        previous_word_idx = None\n",
    "        label_ids = []\n",
    "        for word_idx in word_ids:  # Set the special tokens to -100.\n",
    "            if word_idx is None:\n",
    "                label_ids.append(-100)\n",
    "            elif word_idx != previous_word_idx:  # Only label the first token of a given word.\n",
    "                label_ids.append(label[word_idx])\n",
    "            else:\n",
    "                label_ids.append(-100)\n",
    "            previous_word_idx = word_idx\n",
    "        labels.append(label_ids)\n",
    "\n",
    "    tokenized_inputs[\"labels\"] = labels\n",
    "    return tokenized_inputs"
   ]
  },
  {
   "cell_type": "code",
   "execution_count": 19,
   "metadata": {
    "colab": {
     "base_uri": "https://localhost:8080/",
     "height": 49,
     "referenced_widgets": [
      "a1ab44d3f3aa47b19efec5a77fcc4522",
      "976ceea9f720477abecb3f35fa65eddb",
      "593ff0d777d7450f9a912abcf2f9fbac",
      "0e401ab4ff0f4209af0d4dfbc2c05ce8",
      "5d4cfd6ffae041568fb202fff454862e",
      "198cf440d65d40958fcb70b21c6aa5c0",
      "39cef67ff3074ee4bcde07f959bfd7c9",
      "9c3348fd49e34fb58b994511d2a80b4e",
      "be10537743e04d74b60bebf7531d2f47",
      "b06e93a4b9594598bf6953c01b8734e5",
      "e50a8edff617455d9ed06c5d325ae9bc"
     ]
    },
    "id": "QZ-hprdPT_BK",
    "outputId": "53584286-0512-443f-93ed-dde11e57a99c"
   },
   "outputs": [
    {
     "name": "stderr",
     "output_type": "stream",
     "text": [
      "Map:   0%|                                                                              | 0/1985 [00:00<?, ? examples/s]Asking to truncate to max_length but no maximum length is provided and the model has no predefined maximum length. Default to no truncation.\n",
      "Map: 100%|█████████████████████████████████████████████████████████████████| 1985/1985 [00:00<00:00, 5413.44 examples/s]\n"
     ]
    }
   ],
   "source": [
    "tokenized_dataset = dataset.map(tokenize_and_align_labels, batched=True)"
   ]
  },
  {
   "cell_type": "code",
   "execution_count": 20,
   "metadata": {
    "id": "I5a2jZThT_BK"
   },
   "outputs": [
    {
     "name": "stderr",
     "output_type": "stream",
     "text": [
      "2024-01-13 21:00:14.050275: E external/local_xla/xla/stream_executor/cuda/cuda_dnn.cc:9261] Unable to register cuDNN factory: Attempting to register factory for plugin cuDNN when one has already been registered\n",
      "2024-01-13 21:00:14.050380: E external/local_xla/xla/stream_executor/cuda/cuda_fft.cc:607] Unable to register cuFFT factory: Attempting to register factory for plugin cuFFT when one has already been registered\n",
      "2024-01-13 21:00:14.191792: E external/local_xla/xla/stream_executor/cuda/cuda_blas.cc:1515] Unable to register cuBLAS factory: Attempting to register factory for plugin cuBLAS when one has already been registered\n",
      "2024-01-13 21:00:14.495516: I tensorflow/core/platform/cpu_feature_guard.cc:182] This TensorFlow binary is optimized to use available CPU instructions in performance-critical operations.\n",
      "To enable the following instructions: AVX2 AVX512F FMA, in other operations, rebuild TensorFlow with the appropriate compiler flags.\n"
     ]
    }
   ],
   "source": [
    "from transformers import DataCollatorForTokenClassification\n",
    "\n",
    "data_collator = DataCollatorForTokenClassification(tokenizer=tokenizer)"
   ]
  },
  {
   "cell_type": "markdown",
   "metadata": {
    "id": "hjtL84HdT_BK"
   },
   "source": [
    "## Evaluate"
   ]
  },
  {
   "cell_type": "code",
   "execution_count": 23,
   "metadata": {
    "id": "BNavf9iKT_BL"
   },
   "outputs": [
    {
     "name": "stderr",
     "output_type": "stream",
     "text": [
      "Downloading builder script: 100%|██████████████████████████████████████████████████| 6.34k/6.34k [00:00<00:00, 24.2MB/s]\n"
     ]
    }
   ],
   "source": [
    "import evaluate\n",
    "\n",
    "seqeval = evaluate.load(\"seqeval\")"
   ]
  },
  {
   "cell_type": "code",
   "execution_count": 24,
   "metadata": {
    "id": "GRDlVHgFT_BL"
   },
   "outputs": [],
   "source": [
    "import numpy as np\n",
    "\n",
    "def compute_metrics(p):\n",
    "    predictions, labels = p\n",
    "    predictions = np.argmax(predictions, axis=2)\n",
    "\n",
    "    true_predictions = [\n",
    "        [label_list[p] for (p, l) in zip(prediction, label) if l != -100]\n",
    "        for prediction, label in zip(predictions, labels)\n",
    "    ]\n",
    "    true_labels = [\n",
    "        [label_list[l] for (p, l) in zip(prediction, label) if l != -100]\n",
    "        for prediction, label in zip(predictions, labels)\n",
    "    ]\n",
    "\n",
    "    results = seqeval.compute(predictions=true_predictions, references=true_labels)\n",
    "    return {\n",
    "        \"precision\": results[\"overall_precision\"],\n",
    "        \"recall\": results[\"overall_recall\"],\n",
    "        \"f1\": results[\"overall_f1\"],\n",
    "        \"accuracy\": results[\"overall_accuracy\"],\n",
    "    }"
   ]
  },
  {
   "cell_type": "markdown",
   "metadata": {
    "id": "7jQtvS3JT_BL"
   },
   "source": [
    "## Train"
   ]
  },
  {
   "cell_type": "code",
   "execution_count": 25,
   "metadata": {
    "colab": {
     "base_uri": "https://localhost:8080/"
    },
    "id": "yJYWYldkT_BL",
    "outputId": "40fe9aec-fccb-4454-de6e-1568b0050f2e"
   },
   "outputs": [
    {
     "data": {
      "text/plain": [
       "({0: 'O',\n",
       "  1: 'I-PER',\n",
       "  2: 'I-ORG',\n",
       "  3: 'I-MISC',\n",
       "  4: 'I-LOC',\n",
       "  5: 'B-PER',\n",
       "  6: 'B-ORG',\n",
       "  7: 'B-MISC',\n",
       "  8: 'B-LOC'},\n",
       " 9)"
      ]
     },
     "execution_count": 25,
     "metadata": {},
     "output_type": "execute_result"
    }
   ],
   "source": [
    "id2label, len(id2label)"
   ]
  },
  {
   "cell_type": "code",
   "execution_count": 26,
   "metadata": {
    "colab": {
     "base_uri": "https://localhost:8080/"
    },
    "id": "rg-_KuOCT_BM",
    "outputId": "f59a5f45-a1f8-4fc8-ce69-da3bf072bbd7"
   },
   "outputs": [
    {
     "name": "stderr",
     "output_type": "stream",
     "text": [
      "config.json: 100%|█████████████████████████████████████████████████████████████████████| 787/787 [00:00<00:00, 5.01MB/s]\n",
      "model.safetensors: 100%|███████████████████████████████████████████████████████████| 1.02G/1.02G [00:27<00:00, 36.7MB/s]\n",
      "Some weights of BertForTokenClassification were not initialized from the model checkpoint at SI2M-Lab/DarijaBERT-arabizi and are newly initialized: ['classifier.bias', 'classifier.weight']\n",
      "You should probably TRAIN this model on a down-stream task to be able to use it for predictions and inference.\n"
     ]
    }
   ],
   "source": [
    "from transformers import AutoModelForTokenClassification, TrainingArguments, Trainer\n",
    "\n",
    "model = AutoModelForTokenClassification.from_pretrained(\n",
    "    \"SI2M-Lab/DarijaBERT-arabizi\", num_labels=len(id2label), id2label=id2label, label2id=label2id\n",
    ")"
   ]
  },
  {
   "cell_type": "code",
   "execution_count": 28,
   "metadata": {
    "colab": {
     "base_uri": "https://localhost:8080/",
     "height": 468
    },
    "id": "j-wa2DtRT_BM",
    "outputId": "460504ed-e064-48db-86c2-801cb2f9b425"
   },
   "outputs": [
    {
     "name": "stderr",
     "output_type": "stream",
     "text": [
      "/opt/conda/envs/ml/lib/python3.10/site-packages/torch/nn/parallel/_functions.py:68: UserWarning: Was asked to gather along dimension 0, but all input tensors were scalars; will instead unsqueeze and return a vector.\n",
      "  warnings.warn('Was asked to gather along dimension 0, but all '\n"
     ]
    },
    {
     "data": {
      "text/html": [
       "\n",
       "    <div>\n",
       "      \n",
       "      <progress value='320' max='320' style='width:300px; height:20px; vertical-align: middle;'></progress>\n",
       "      [320/320 07:00, Epoch 10/10]\n",
       "    </div>\n",
       "    <table border=\"1\" class=\"dataframe\">\n",
       "  <thead>\n",
       " <tr style=\"text-align: left;\">\n",
       "      <th>Epoch</th>\n",
       "      <th>Training Loss</th>\n",
       "      <th>Validation Loss</th>\n",
       "      <th>Precision</th>\n",
       "      <th>Recall</th>\n",
       "      <th>F1</th>\n",
       "      <th>Accuracy</th>\n",
       "    </tr>\n",
       "  </thead>\n",
       "  <tbody>\n",
       "    <tr>\n",
       "      <td>1</td>\n",
       "      <td>No log</td>\n",
       "      <td>0.324015</td>\n",
       "      <td>0.539661</td>\n",
       "      <td>0.325125</td>\n",
       "      <td>0.405782</td>\n",
       "      <td>0.899630</td>\n",
       "    </tr>\n",
       "    <tr>\n",
       "      <td>2</td>\n",
       "      <td>No log</td>\n",
       "      <td>0.254093</td>\n",
       "      <td>0.559347</td>\n",
       "      <td>0.472037</td>\n",
       "      <td>0.511996</td>\n",
       "      <td>0.920345</td>\n",
       "    </tr>\n",
       "    <tr>\n",
       "      <td>3</td>\n",
       "      <td>No log</td>\n",
       "      <td>0.206221</td>\n",
       "      <td>0.569651</td>\n",
       "      <td>0.582846</td>\n",
       "      <td>0.576173</td>\n",
       "      <td>0.935009</td>\n",
       "    </tr>\n",
       "    <tr>\n",
       "      <td>4</td>\n",
       "      <td>No log</td>\n",
       "      <td>0.179141</td>\n",
       "      <td>0.616215</td>\n",
       "      <td>0.631260</td>\n",
       "      <td>0.623647</td>\n",
       "      <td>0.942597</td>\n",
       "    </tr>\n",
       "    <tr>\n",
       "      <td>5</td>\n",
       "      <td>No log</td>\n",
       "      <td>0.152811</td>\n",
       "      <td>0.650439</td>\n",
       "      <td>0.680301</td>\n",
       "      <td>0.665035</td>\n",
       "      <td>0.950868</td>\n",
       "    </tr>\n",
       "    <tr>\n",
       "      <td>6</td>\n",
       "      <td>No log</td>\n",
       "      <td>0.130773</td>\n",
       "      <td>0.688019</td>\n",
       "      <td>0.726210</td>\n",
       "      <td>0.706599</td>\n",
       "      <td>0.958247</td>\n",
       "    </tr>\n",
       "    <tr>\n",
       "      <td>7</td>\n",
       "      <td>No log</td>\n",
       "      <td>0.118864</td>\n",
       "      <td>0.712620</td>\n",
       "      <td>0.727045</td>\n",
       "      <td>0.719760</td>\n",
       "      <td>0.961206</td>\n",
       "    </tr>\n",
       "    <tr>\n",
       "      <td>8</td>\n",
       "      <td>No log</td>\n",
       "      <td>0.110036</td>\n",
       "      <td>0.730693</td>\n",
       "      <td>0.766068</td>\n",
       "      <td>0.747963</td>\n",
       "      <td>0.965114</td>\n",
       "    </tr>\n",
       "    <tr>\n",
       "      <td>9</td>\n",
       "      <td>No log</td>\n",
       "      <td>0.103672</td>\n",
       "      <td>0.742272</td>\n",
       "      <td>0.756678</td>\n",
       "      <td>0.749406</td>\n",
       "      <td>0.966670</td>\n",
       "    </tr>\n",
       "    <tr>\n",
       "      <td>10</td>\n",
       "      <td>No log</td>\n",
       "      <td>0.101141</td>\n",
       "      <td>0.747485</td>\n",
       "      <td>0.775250</td>\n",
       "      <td>0.761115</td>\n",
       "      <td>0.968149</td>\n",
       "    </tr>\n",
       "  </tbody>\n",
       "</table><p>"
      ],
      "text/plain": [
       "<IPython.core.display.HTML object>"
      ]
     },
     "metadata": {},
     "output_type": "display_data"
    },
    {
     "name": "stderr",
     "output_type": "stream",
     "text": [
      "Checkpoint destination directory ner-DarijaBERT-arabizi/checkpoint-32 already exists and is non-empty.Saving will proceed but saved results may be invalid.\n",
      "/opt/conda/envs/ml/lib/python3.10/site-packages/torch/nn/parallel/_functions.py:68: UserWarning: Was asked to gather along dimension 0, but all input tensors were scalars; will instead unsqueeze and return a vector.\n",
      "  warnings.warn('Was asked to gather along dimension 0, but all '\n",
      "Checkpoint destination directory ner-DarijaBERT-arabizi/checkpoint-64 already exists and is non-empty.Saving will proceed but saved results may be invalid.\n",
      "/opt/conda/envs/ml/lib/python3.10/site-packages/torch/nn/parallel/_functions.py:68: UserWarning: Was asked to gather along dimension 0, but all input tensors were scalars; will instead unsqueeze and return a vector.\n",
      "  warnings.warn('Was asked to gather along dimension 0, but all '\n",
      "/opt/conda/envs/ml/lib/python3.10/site-packages/torch/nn/parallel/_functions.py:68: UserWarning: Was asked to gather along dimension 0, but all input tensors were scalars; will instead unsqueeze and return a vector.\n",
      "  warnings.warn('Was asked to gather along dimension 0, but all '\n",
      "/opt/conda/envs/ml/lib/python3.10/site-packages/torch/nn/parallel/_functions.py:68: UserWarning: Was asked to gather along dimension 0, but all input tensors were scalars; will instead unsqueeze and return a vector.\n",
      "  warnings.warn('Was asked to gather along dimension 0, but all '\n",
      "/opt/conda/envs/ml/lib/python3.10/site-packages/torch/nn/parallel/_functions.py:68: UserWarning: Was asked to gather along dimension 0, but all input tensors were scalars; will instead unsqueeze and return a vector.\n",
      "  warnings.warn('Was asked to gather along dimension 0, but all '\n",
      "/opt/conda/envs/ml/lib/python3.10/site-packages/torch/nn/parallel/_functions.py:68: UserWarning: Was asked to gather along dimension 0, but all input tensors were scalars; will instead unsqueeze and return a vector.\n",
      "  warnings.warn('Was asked to gather along dimension 0, but all '\n",
      "/opt/conda/envs/ml/lib/python3.10/site-packages/torch/nn/parallel/_functions.py:68: UserWarning: Was asked to gather along dimension 0, but all input tensors were scalars; will instead unsqueeze and return a vector.\n",
      "  warnings.warn('Was asked to gather along dimension 0, but all '\n",
      "/opt/conda/envs/ml/lib/python3.10/site-packages/torch/nn/parallel/_functions.py:68: UserWarning: Was asked to gather along dimension 0, but all input tensors were scalars; will instead unsqueeze and return a vector.\n",
      "  warnings.warn('Was asked to gather along dimension 0, but all '\n",
      "/opt/conda/envs/ml/lib/python3.10/site-packages/torch/nn/parallel/_functions.py:68: UserWarning: Was asked to gather along dimension 0, but all input tensors were scalars; will instead unsqueeze and return a vector.\n",
      "  warnings.warn('Was asked to gather along dimension 0, but all '\n"
     ]
    },
    {
     "data": {
      "text/plain": [
       "TrainOutput(global_step=320, training_loss=0.2234816312789917, metrics={'train_runtime': 421.1285, 'train_samples_per_second': 47.135, 'train_steps_per_second': 0.76, 'total_flos': 1968511827211272.0, 'train_loss': 0.2234816312789917, 'epoch': 10.0})"
      ]
     },
     "execution_count": 28,
     "metadata": {},
     "output_type": "execute_result"
    }
   ],
   "source": [
    "training_args = TrainingArguments(\n",
    "    output_dir=\"ner-DarijaBERT-arabizi\",\n",
    "    learning_rate=2e-5,\n",
    "    per_device_train_batch_size=16,\n",
    "    per_device_eval_batch_size=16,\n",
    "    num_train_epochs=10,\n",
    "    weight_decay=0.01,\n",
    "    evaluation_strategy=\"epoch\",\n",
    "    save_strategy=\"epoch\",\n",
    "    load_best_model_at_end=True,\n",
    "    push_to_hub=True,\n",
    ")\n",
    "\n",
    "trainer = Trainer(\n",
    "    model=model,\n",
    "    args=training_args,\n",
    "    train_dataset=tokenized_dataset,\n",
    "    eval_dataset=tokenized_dataset,\n",
    "    tokenizer=tokenizer,\n",
    "    data_collator=data_collator,\n",
    "    compute_metrics=compute_metrics,\n",
    ")\n",
    "\n",
    "trainer.train()"
   ]
  },
  {
   "cell_type": "code",
   "execution_count": 29,
   "metadata": {
    "id": "w018ZwMNT_BV"
   },
   "outputs": [
    {
     "data": {
      "text/plain": [
       "'https://huggingface.co/Oelbourki/ner-DarijaBERT-arabizi/tree/main/'"
      ]
     },
     "execution_count": 29,
     "metadata": {},
     "output_type": "execute_result"
    }
   ],
   "source": [
    "trainer.push_to_hub()"
   ]
  },
  {
   "cell_type": "markdown",
   "metadata": {
    "id": "cmKBaZ-lT_BW"
   },
   "source": [
    "## Inference"
   ]
  },
  {
   "cell_type": "code",
   "execution_count": 30,
   "metadata": {
    "id": "2ZylvZV1T_BW"
   },
   "outputs": [],
   "source": [
    "texts = [\"دونالد طرامب هو الرئيس لفايت د ميريكان\",\n",
    "         \"لمقار ديال OPEC كاين ف فيينا العاصمة ديال لوتريش\",\n",
    "         \"عوينة يغومان جماعة ترابية قروية كاينة ف إقليم آسا الزاݣ\"]"
   ]
  },
  {
   "cell_type": "code",
   "execution_count": 47,
   "metadata": {
    "id": "TmBQnK2RT_BX",
    "outputId": "1a6d2f69-359f-4863-c926-00c7fa366140"
   },
   "outputs": [
    {
     "name": "stderr",
     "output_type": "stream",
     "text": [
      "Asking to truncate to max_length but no maximum length is provided and the model has no predefined maximum length. Default to no truncation.\n"
     ]
    }
   ],
   "source": [
    "from transformers import pipeline\n",
    "\n",
    "classifier = pipeline(\"ner\", model=\"Oelbourki/ner-DarijaBERT-arabizi\",  aggregation_strategy=\"first\")\n",
    "token_classification = classifier(texts)"
   ]
  },
  {
   "cell_type": "code",
   "execution_count": 67,
   "metadata": {},
   "outputs": [
    {
     "name": "stdout",
     "output_type": "stream",
     "text": [
      "دونالد طرامب هو الرئيس لفايت د ميريكان\n",
      "[{'entity_group': 'LOC', 'score': 0.9000089, 'word': 'ميريكان', 'start': 31, 'end': 38}]\n",
      "\n",
      "لمقار ديال OPEC كاين ف فيينا العاصمة ديال لوتريش\n",
      "[{'entity_group': 'MISC', 'score': 0.30474782, 'word': 'opec', 'start': 11, 'end': 15}, {'entity_group': 'LOC', 'score': 0.87563026, 'word': 'فيينا', 'start': 23, 'end': 28}, {'entity_group': 'LOC', 'score': 0.8966449, 'word': 'لوتريش', 'start': 42, 'end': 48}]\n",
      "\n",
      "عوينة يغومان جماعة ترابية قروية كاينة ف إقليم آسا الزاݣ\n",
      "[{'entity_group': 'LOC', 'score': 0.91604114, 'word': 'عوينة', 'start': 0, 'end': 5}, {'entity_group': 'LOC', 'score': 0.4215859, 'word': 'يغومان', 'start': 6, 'end': 12}, {'entity_group': 'LOC', 'score': 0.6283031, 'word': 'اسا', 'start': 46, 'end': 49}, {'entity_group': 'LOC', 'score': 0.72588617, 'word': 'الزاݣ', 'start': 50, 'end': 55}]\n",
      "\n"
     ]
    }
   ],
   "source": [
    "for text, pred in zip(texts, token_classification):\n",
    "    print(text)\n",
    "    print(pred)\n",
    "    print()"
   ]
  },
  {
   "cell_type": "code",
   "execution_count": null,
   "metadata": {},
   "outputs": [],
   "source": []
  }
 ],
 "metadata": {
  "colab": {
   "provenance": []
  },
  "kernelspec": {
   "display_name": "Python 3 (ipykernel)",
   "language": "python",
   "name": "python3"
  },
  "language_info": {
   "codemirror_mode": {
    "name": "ipython",
    "version": 3
   },
   "file_extension": ".py",
   "mimetype": "text/x-python",
   "name": "python",
   "nbconvert_exporter": "python",
   "pygments_lexer": "ipython3",
   "version": "3.10.13"
  },
  "widgets": {
   "application/vnd.jupyter.widget-state+json": {
    "0e401ab4ff0f4209af0d4dfbc2c05ce8": {
     "model_module": "@jupyter-widgets/controls",
     "model_module_version": "1.5.0",
     "model_name": "HTMLModel",
     "state": {
      "_dom_classes": [],
      "_model_module": "@jupyter-widgets/controls",
      "_model_module_version": "1.5.0",
      "_model_name": "HTMLModel",
      "_view_count": null,
      "_view_module": "@jupyter-widgets/controls",
      "_view_module_version": "1.5.0",
      "_view_name": "HTMLView",
      "description": "",
      "description_tooltip": null,
      "layout": "IPY_MODEL_b06e93a4b9594598bf6953c01b8734e5",
      "placeholder": "​",
      "style": "IPY_MODEL_e50a8edff617455d9ed06c5d325ae9bc",
      "value": " 1985/1985 [00:01&lt;00:00, 1092.82 examples/s]"
     }
    },
    "198cf440d65d40958fcb70b21c6aa5c0": {
     "model_module": "@jupyter-widgets/base",
     "model_module_version": "1.2.0",
     "model_name": "LayoutModel",
     "state": {
      "_model_module": "@jupyter-widgets/base",
      "_model_module_version": "1.2.0",
      "_model_name": "LayoutModel",
      "_view_count": null,
      "_view_module": "@jupyter-widgets/base",
      "_view_module_version": "1.2.0",
      "_view_name": "LayoutView",
      "align_content": null,
      "align_items": null,
      "align_self": null,
      "border": null,
      "bottom": null,
      "display": null,
      "flex": null,
      "flex_flow": null,
      "grid_area": null,
      "grid_auto_columns": null,
      "grid_auto_flow": null,
      "grid_auto_rows": null,
      "grid_column": null,
      "grid_gap": null,
      "grid_row": null,
      "grid_template_areas": null,
      "grid_template_columns": null,
      "grid_template_rows": null,
      "height": null,
      "justify_content": null,
      "justify_items": null,
      "left": null,
      "margin": null,
      "max_height": null,
      "max_width": null,
      "min_height": null,
      "min_width": null,
      "object_fit": null,
      "object_position": null,
      "order": null,
      "overflow": null,
      "overflow_x": null,
      "overflow_y": null,
      "padding": null,
      "right": null,
      "top": null,
      "visibility": null,
      "width": null
     }
    },
    "39cef67ff3074ee4bcde07f959bfd7c9": {
     "model_module": "@jupyter-widgets/controls",
     "model_module_version": "1.5.0",
     "model_name": "DescriptionStyleModel",
     "state": {
      "_model_module": "@jupyter-widgets/controls",
      "_model_module_version": "1.5.0",
      "_model_name": "DescriptionStyleModel",
      "_view_count": null,
      "_view_module": "@jupyter-widgets/base",
      "_view_module_version": "1.2.0",
      "_view_name": "StyleView",
      "description_width": ""
     }
    },
    "593ff0d777d7450f9a912abcf2f9fbac": {
     "model_module": "@jupyter-widgets/controls",
     "model_module_version": "1.5.0",
     "model_name": "FloatProgressModel",
     "state": {
      "_dom_classes": [],
      "_model_module": "@jupyter-widgets/controls",
      "_model_module_version": "1.5.0",
      "_model_name": "FloatProgressModel",
      "_view_count": null,
      "_view_module": "@jupyter-widgets/controls",
      "_view_module_version": "1.5.0",
      "_view_name": "ProgressView",
      "bar_style": "success",
      "description": "",
      "description_tooltip": null,
      "layout": "IPY_MODEL_9c3348fd49e34fb58b994511d2a80b4e",
      "max": 1985,
      "min": 0,
      "orientation": "horizontal",
      "style": "IPY_MODEL_be10537743e04d74b60bebf7531d2f47",
      "value": 1985
     }
    },
    "5d4cfd6ffae041568fb202fff454862e": {
     "model_module": "@jupyter-widgets/base",
     "model_module_version": "1.2.0",
     "model_name": "LayoutModel",
     "state": {
      "_model_module": "@jupyter-widgets/base",
      "_model_module_version": "1.2.0",
      "_model_name": "LayoutModel",
      "_view_count": null,
      "_view_module": "@jupyter-widgets/base",
      "_view_module_version": "1.2.0",
      "_view_name": "LayoutView",
      "align_content": null,
      "align_items": null,
      "align_self": null,
      "border": null,
      "bottom": null,
      "display": null,
      "flex": null,
      "flex_flow": null,
      "grid_area": null,
      "grid_auto_columns": null,
      "grid_auto_flow": null,
      "grid_auto_rows": null,
      "grid_column": null,
      "grid_gap": null,
      "grid_row": null,
      "grid_template_areas": null,
      "grid_template_columns": null,
      "grid_template_rows": null,
      "height": null,
      "justify_content": null,
      "justify_items": null,
      "left": null,
      "margin": null,
      "max_height": null,
      "max_width": null,
      "min_height": null,
      "min_width": null,
      "object_fit": null,
      "object_position": null,
      "order": null,
      "overflow": null,
      "overflow_x": null,
      "overflow_y": null,
      "padding": null,
      "right": null,
      "top": null,
      "visibility": null,
      "width": null
     }
    },
    "976ceea9f720477abecb3f35fa65eddb": {
     "model_module": "@jupyter-widgets/controls",
     "model_module_version": "1.5.0",
     "model_name": "HTMLModel",
     "state": {
      "_dom_classes": [],
      "_model_module": "@jupyter-widgets/controls",
      "_model_module_version": "1.5.0",
      "_model_name": "HTMLModel",
      "_view_count": null,
      "_view_module": "@jupyter-widgets/controls",
      "_view_module_version": "1.5.0",
      "_view_name": "HTMLView",
      "description": "",
      "description_tooltip": null,
      "layout": "IPY_MODEL_198cf440d65d40958fcb70b21c6aa5c0",
      "placeholder": "​",
      "style": "IPY_MODEL_39cef67ff3074ee4bcde07f959bfd7c9",
      "value": "Map: 100%"
     }
    },
    "9c3348fd49e34fb58b994511d2a80b4e": {
     "model_module": "@jupyter-widgets/base",
     "model_module_version": "1.2.0",
     "model_name": "LayoutModel",
     "state": {
      "_model_module": "@jupyter-widgets/base",
      "_model_module_version": "1.2.0",
      "_model_name": "LayoutModel",
      "_view_count": null,
      "_view_module": "@jupyter-widgets/base",
      "_view_module_version": "1.2.0",
      "_view_name": "LayoutView",
      "align_content": null,
      "align_items": null,
      "align_self": null,
      "border": null,
      "bottom": null,
      "display": null,
      "flex": null,
      "flex_flow": null,
      "grid_area": null,
      "grid_auto_columns": null,
      "grid_auto_flow": null,
      "grid_auto_rows": null,
      "grid_column": null,
      "grid_gap": null,
      "grid_row": null,
      "grid_template_areas": null,
      "grid_template_columns": null,
      "grid_template_rows": null,
      "height": null,
      "justify_content": null,
      "justify_items": null,
      "left": null,
      "margin": null,
      "max_height": null,
      "max_width": null,
      "min_height": null,
      "min_width": null,
      "object_fit": null,
      "object_position": null,
      "order": null,
      "overflow": null,
      "overflow_x": null,
      "overflow_y": null,
      "padding": null,
      "right": null,
      "top": null,
      "visibility": null,
      "width": null
     }
    },
    "a1ab44d3f3aa47b19efec5a77fcc4522": {
     "model_module": "@jupyter-widgets/controls",
     "model_module_version": "1.5.0",
     "model_name": "HBoxModel",
     "state": {
      "_dom_classes": [],
      "_model_module": "@jupyter-widgets/controls",
      "_model_module_version": "1.5.0",
      "_model_name": "HBoxModel",
      "_view_count": null,
      "_view_module": "@jupyter-widgets/controls",
      "_view_module_version": "1.5.0",
      "_view_name": "HBoxView",
      "box_style": "",
      "children": [
       "IPY_MODEL_976ceea9f720477abecb3f35fa65eddb",
       "IPY_MODEL_593ff0d777d7450f9a912abcf2f9fbac",
       "IPY_MODEL_0e401ab4ff0f4209af0d4dfbc2c05ce8"
      ],
      "layout": "IPY_MODEL_5d4cfd6ffae041568fb202fff454862e"
     }
    },
    "b06e93a4b9594598bf6953c01b8734e5": {
     "model_module": "@jupyter-widgets/base",
     "model_module_version": "1.2.0",
     "model_name": "LayoutModel",
     "state": {
      "_model_module": "@jupyter-widgets/base",
      "_model_module_version": "1.2.0",
      "_model_name": "LayoutModel",
      "_view_count": null,
      "_view_module": "@jupyter-widgets/base",
      "_view_module_version": "1.2.0",
      "_view_name": "LayoutView",
      "align_content": null,
      "align_items": null,
      "align_self": null,
      "border": null,
      "bottom": null,
      "display": null,
      "flex": null,
      "flex_flow": null,
      "grid_area": null,
      "grid_auto_columns": null,
      "grid_auto_flow": null,
      "grid_auto_rows": null,
      "grid_column": null,
      "grid_gap": null,
      "grid_row": null,
      "grid_template_areas": null,
      "grid_template_columns": null,
      "grid_template_rows": null,
      "height": null,
      "justify_content": null,
      "justify_items": null,
      "left": null,
      "margin": null,
      "max_height": null,
      "max_width": null,
      "min_height": null,
      "min_width": null,
      "object_fit": null,
      "object_position": null,
      "order": null,
      "overflow": null,
      "overflow_x": null,
      "overflow_y": null,
      "padding": null,
      "right": null,
      "top": null,
      "visibility": null,
      "width": null
     }
    },
    "be10537743e04d74b60bebf7531d2f47": {
     "model_module": "@jupyter-widgets/controls",
     "model_module_version": "1.5.0",
     "model_name": "ProgressStyleModel",
     "state": {
      "_model_module": "@jupyter-widgets/controls",
      "_model_module_version": "1.5.0",
      "_model_name": "ProgressStyleModel",
      "_view_count": null,
      "_view_module": "@jupyter-widgets/base",
      "_view_module_version": "1.2.0",
      "_view_name": "StyleView",
      "bar_color": null,
      "description_width": ""
     }
    },
    "e50a8edff617455d9ed06c5d325ae9bc": {
     "model_module": "@jupyter-widgets/controls",
     "model_module_version": "1.5.0",
     "model_name": "DescriptionStyleModel",
     "state": {
      "_model_module": "@jupyter-widgets/controls",
      "_model_module_version": "1.5.0",
      "_model_name": "DescriptionStyleModel",
      "_view_count": null,
      "_view_module": "@jupyter-widgets/base",
      "_view_module_version": "1.2.0",
      "_view_name": "StyleView",
      "description_width": ""
     }
    }
   }
  }
 },
 "nbformat": 4,
 "nbformat_minor": 4
}
